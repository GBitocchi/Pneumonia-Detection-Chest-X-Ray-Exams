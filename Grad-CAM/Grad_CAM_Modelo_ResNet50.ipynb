{
  "nbformat": 4,
  "nbformat_minor": 0,
  "metadata": {
    "colab": {
      "name": "Grad-CAM_Modelo_ResNet50.ipynb",
      "provenance": []
    },
    "kernelspec": {
      "name": "python3",
      "display_name": "Python 3"
    },
    "language_info": {
      "name": "python"
    }
  },
  "cells": [
    {
      "cell_type": "markdown",
      "source": [
        "# Generacion de Grad-CAM para pytorch en modelo de referencia ResNet50\n",
        "\n",
        "### Alumno : Gustavo Ayrton Bitocchi\n",
        "### Director : Diego Alexis Evin\n",
        "### Universidad Austral Cohorte 2020/21\n",
        "### Trabajo final de Maestria\n",
        "------------------------------------------------------------------------------------------------------"
      ],
      "metadata": {
        "id": "CFMpU0YNO4xm"
      }
    },
    {
      "cell_type": "markdown",
      "source": [
        "## Bibliotecas"
      ],
      "metadata": {
        "id": "BuaGt4xSS1DP"
      }
    },
    {
      "cell_type": "code",
      "source": [
        "# Instalacion de biblioteca\n",
        "\n",
        "!pip install grad-cam --quiet"
      ],
      "metadata": {
        "id": "pkNRnK-KO48m"
      },
      "execution_count": null,
      "outputs": []
    },
    {
      "cell_type": "code",
      "source": [
        "# Importamos bibliotecas\n",
        "\n",
        "import cv2\n",
        "import torch\n",
        "import numpy as np\n",
        "import torchvision.transforms as tt\n",
        "\n",
        "from pytorch_grad_cam import FullGrad\n",
        "from pytorch_grad_cam.utils.image import show_cam_on_image"
      ],
      "metadata": {
        "id": "xcgytMBkO_u4"
      },
      "execution_count": null,
      "outputs": []
    },
    {
      "cell_type": "markdown",
      "source": [
        "## Definicion de funciones"
      ],
      "metadata": {
        "id": "dIv4phTbS5gg"
      }
    },
    {
      "cell_type": "code",
      "source": [
        "# Definimos funcion para cargar modelo generado\n",
        "\n",
        "def load_model(filepath):\n",
        "    checkpoint = torch.load(filepath)\n",
        "    model = checkpoint['model']\n",
        "    model.load_state_dict(checkpoint['state_dict'])\n",
        "    for parameter in model.parameters():\n",
        "        parameter.requires_grad = False\n",
        "    model.eval()\n",
        "    return model"
      ],
      "metadata": {
        "id": "fOv95F7ZQrqy"
      },
      "execution_count": null,
      "outputs": []
    },
    {
      "cell_type": "code",
      "source": [
        "# Definimos funcion que convierte imagen a tensor\n",
        "\n",
        "def convert_img_to_tensor(img):\n",
        "    preprocessing = tt.Compose([tt.ToTensor()])\n",
        "    return preprocessing(img.copy()).unsqueeze(0)"
      ],
      "metadata": {
        "id": "q3R_mACFQ8aj"
      },
      "execution_count": null,
      "outputs": []
    },
    {
      "cell_type": "code",
      "source": [
        "# Definimos funcion que recorta la imagen dada en el centro\n",
        "\n",
        "def center_crop(img, dim):\n",
        "\twidth, height = img.shape[1], img.shape[0]\n",
        "\tcrop_width = dim[0] if dim[0]<img.shape[1] else img.shape[1]\n",
        "\tcrop_height = dim[1] if dim[1]<img.shape[0] else img.shape[0] \n",
        "\tmid_x, mid_y = int(width/2), int(height/2)\n",
        "\tcw2, ch2 = int(crop_width/2), int(crop_height/2) \n",
        "\treturn img[mid_y-ch2:mid_y+ch2, mid_x-cw2:mid_x+cw2]"
      ],
      "metadata": {
        "id": "leiBL2aiRcXf"
      },
      "execution_count": null,
      "outputs": []
    },
    {
      "cell_type": "markdown",
      "source": [
        "## Carga de modelo y definicion de capa a computar CAM"
      ],
      "metadata": {
        "id": "4EwkWS5tS9Ig"
      }
    },
    {
      "cell_type": "code",
      "source": [
        "# Cargamos modelo y definimos que capa utilizaremos como objetivo\n",
        "\n",
        "model = load_model('DIR_MODEL_GENERATED')\n",
        "target_layers  = [model.network.layer4[-1]]"
      ],
      "metadata": {
        "id": "0H7dypc9POhD"
      },
      "execution_count": null,
      "outputs": []
    },
    {
      "cell_type": "markdown",
      "source": [
        "## Instanciacion de modelo FullGrad"
      ],
      "metadata": {
        "id": "4fnERWkZTCbN"
      }
    },
    {
      "cell_type": "code",
      "source": [
        "# Instanciamos modelo FullGrad\n",
        "\n",
        "cam = FullGrad(model = model, target_layers = target_layers, use_cuda = True)\n",
        "cam.batch_size = 32"
      ],
      "metadata": {
        "id": "4Ymwp4mhPGP1"
      },
      "execution_count": null,
      "outputs": []
    },
    {
      "cell_type": "markdown",
      "source": [
        "## Lectura y pre-procesamiento de imagen de prueba"
      ],
      "metadata": {
        "id": "5xM9bNHtTGow"
      }
    },
    {
      "cell_type": "code",
      "source": [
        "# Leemos imagen de prueba\n",
        "\n",
        "rgb_img = cv2.imread('DIR_TEST_IMAGE', 1)[:, :, ::-1]\n",
        "\n",
        "# Realizamos pre-procesamiento a la imagen\n",
        "\n",
        "rgb_img = cv2.resize(rgb_img, (255, 255))\n",
        "rgb_img = center_crop(rgb_img, (224, 224))\n",
        "rgb_img = np.float32(rgb_img) / 255\n",
        "\n",
        "# Convertimos imagen en tensor de entrada\n",
        "\n",
        "input_tensor = convert_img_to_tensor(rgb_img)"
      ],
      "metadata": {
        "id": "P5grbwBgQFIO"
      },
      "execution_count": null,
      "outputs": []
    },
    {
      "cell_type": "markdown",
      "source": [
        "## Ejecucion de modelo cam y guardado de heatmap generado"
      ],
      "metadata": {
        "id": "jU9uJgaTTKRf"
      }
    },
    {
      "cell_type": "code",
      "source": [
        "# Ejecutamos modelo CAM con aug_smooth y eigen_smooth para reducir el ruido en las CAMs y hacer que se ajusten mejor a los objetos\n",
        "\n",
        "grayscale_cam = cam(input_tensor = input_tensor, aug_smooth = True, eigen_smooth = True)"
      ],
      "metadata": {
        "id": "WHnZe7hBQNQi"
      },
      "execution_count": null,
      "outputs": []
    },
    {
      "cell_type": "code",
      "source": [
        "# Visualizamos CAM en imagen\n",
        "\n",
        "visualization = show_cam_on_image(rgb_img, grayscale_cam[0, :], use_rgb=True)"
      ],
      "metadata": {
        "id": "C7U3ulc6QPPW"
      },
      "execution_count": null,
      "outputs": []
    },
    {
      "cell_type": "code",
      "source": [
        "# Guardamos el heatmap generado en un directorio\n",
        "\n",
        "cv2.imwrite('DIR_SAVE_HEATMAP', visualization)"
      ],
      "metadata": {
        "id": "hSG2qAJ7QQU9"
      },
      "execution_count": null,
      "outputs": []
    }
  ]
}